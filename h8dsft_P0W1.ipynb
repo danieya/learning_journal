{
  "nbformat": 4,
  "nbformat_minor": 0,
  "metadata": {
    "colab": {
      "name": "h8dsft_P0W1.ipynb",
      "provenance": [],
      "collapsed_sections": [
        "RR9GwbOfqTIl",
        "5N5jM0t0rS5a",
        "QtDMJJmkrwqA",
        "IauXFmdL1Qji"
      ]
    },
    "kernelspec": {
      "name": "python3",
      "display_name": "Python 3"
    },
    "language_info": {
      "name": "python"
    }
  },
  "cells": [
    {
      "cell_type": "markdown",
      "source": [
        "### i. **Perkenalan**"
      ],
      "metadata": {
        "id": "RR9GwbOfqTIl"
      }
    },
    {
      "cell_type": "markdown",
      "source": [
        "Nama : Daniella Ginting\n",
        "\n",
        "Batch 007\n",
        "\n",
        "Graded Challenge 1"
      ],
      "metadata": {
        "id": "G6gukSEcrOYr"
      }
    },
    {
      "cell_type": "markdown",
      "source": [
        "Data set Pokemon\n",
        "\n",
        "This data set includes 721 Pokemon, including their number, name, first and second type, and basic stats: HP, Attack, Defense, Special Attack, Special Defense, and Speed.\n",
        "\n",
        "The feature of this data is:\n",
        "\n",
        " ID for each pokemon\n",
        "* Name: Name of each pokemon\n",
        "* Type 1: Each pokemon has a type, this determines weakness/resistance to attacks\n",
        "*Type 2: Some pokemon are dual type and have 2\n",
        "*Total: sum of all stats that come after this, a general guide to how strong a pokemon is\n",
        "*HP: hit points, or health, defines how much damage a pokemon can withstand before fainting\n",
        "*Attack: the base modifier for normal attacks (eg. Scratch, Punch)\n",
        "*Defense: the base damage resistance against normal attacks\n",
        "*SP Atk: special attack, the base modifier for special attacks (e.g. fire blast, bubble beam)\n",
        "*SP Def: the base damage resistance against special attacks\n",
        "*Speed: determines which pokemon attacks first each round"
      ],
      "metadata": {
        "id": "ju4G8C4R1mJZ"
      }
    },
    {
      "cell_type": "markdown",
      "source": [
        "**Objective:**\n",
        "1. Mencari Pokemon Terkuat (Data Pokemon yang kemungkinan menang paling besar  (Total > 700, punya Tipe 1 dan Tipe 2))\n",
        "2. Mencari Data Pokemon yang baik untuk jadi defense (Attack, HP dan defense yang tinggi)\n",
        "3. Membuat Data Pokemon yang kuat di udara dan bisa terbang, punya speed yang tinggi, jago attack.\n",
        "4. Membuat visualisasi data Pokemon Terkuat dengan grafik bar ditinjau HP"
      ],
      "metadata": {
        "id": "IgNLEwj65Fq0"
      }
    },
    {
      "cell_type": "markdown",
      "source": [
        "### **ii. Import Pustaka**"
      ],
      "metadata": {
        "id": "5N5jM0t0rS5a"
      }
    },
    {
      "cell_type": "code",
      "execution_count": null,
      "metadata": {
        "id": "sAaMFPAxxq6L"
      },
      "outputs": [],
      "source": [
        "#Menggunakan Pandas Python Library\n",
        "import numpy as np\n",
        "import pandas as pd"
      ]
    },
    {
      "cell_type": "markdown",
      "source": [
        "### **iii. Data Loading**"
      ],
      "metadata": {
        "id": "QtDMJJmkrwqA"
      }
    },
    {
      "cell_type": "markdown",
      "source": [
        "Load data pokemon"
      ],
      "metadata": {
        "id": "u-LMktpdwPFS"
      }
    },
    {
      "cell_type": "code",
      "source": [
        "#Load data pokemon.csv\n",
        "df = pd.read_csv('/content/Pokemon.csv')"
      ],
      "metadata": {
        "id": "HXoEL8svx_dF"
      },
      "execution_count": null,
      "outputs": []
    },
    {
      "cell_type": "markdown",
      "source": [
        "Tipe Data"
      ],
      "metadata": {
        "id": "9PqG-TDpwQz2"
      }
    },
    {
      "cell_type": "code",
      "source": [
        "#Menampilkan data types\n",
        "df.info()"
      ],
      "metadata": {
        "colab": {
          "base_uri": "https://localhost:8080/"
        },
        "id": "qWCV7uvHsioW",
        "outputId": "f22198ad-aea3-477c-f3a5-eb5a492de2f2"
      },
      "execution_count": null,
      "outputs": [
        {
          "output_type": "stream",
          "name": "stdout",
          "text": [
            "<class 'pandas.core.frame.DataFrame'>\n",
            "RangeIndex: 800 entries, 0 to 799\n",
            "Data columns (total 13 columns):\n",
            " #   Column      Non-Null Count  Dtype \n",
            "---  ------      --------------  ----- \n",
            " 0   #           800 non-null    int64 \n",
            " 1   Name        800 non-null    object\n",
            " 2   Type 1      800 non-null    object\n",
            " 3   Type 2      414 non-null    object\n",
            " 4   Total       800 non-null    int64 \n",
            " 5   HP          800 non-null    int64 \n",
            " 6   Attack      800 non-null    int64 \n",
            " 7   Defense     800 non-null    int64 \n",
            " 8   Sp. Atk     800 non-null    int64 \n",
            " 9   Sp. Def     800 non-null    int64 \n",
            " 10  Speed       800 non-null    int64 \n",
            " 11  Generation  800 non-null    int64 \n",
            " 12  Legendary   800 non-null    bool  \n",
            "dtypes: bool(1), int64(9), object(3)\n",
            "memory usage: 75.9+ KB\n"
          ]
        }
      ]
    },
    {
      "cell_type": "markdown",
      "source": [
        "Gambaran dataset"
      ],
      "metadata": {
        "id": "NYfPtT7jwTvO"
      }
    },
    {
      "cell_type": "code",
      "source": [
        "#Menampilkan gambaran besar dataset\n",
        "df.head(10)"
      ],
      "metadata": {
        "colab": {
          "base_uri": "https://localhost:8080/",
          "height": 496
        },
        "id": "SX3NMF13yvcF",
        "outputId": "a5c2ecd8-bd38-4f6e-beba-6ec933cdcf33"
      },
      "execution_count": null,
      "outputs": [
        {
          "output_type": "execute_result",
          "data": {
            "text/html": [
              "\n",
              "  <div id=\"df-6011b69e-f108-4ef1-8236-4a64e00c87cc\">\n",
              "    <div class=\"colab-df-container\">\n",
              "      <div>\n",
              "<style scoped>\n",
              "    .dataframe tbody tr th:only-of-type {\n",
              "        vertical-align: middle;\n",
              "    }\n",
              "\n",
              "    .dataframe tbody tr th {\n",
              "        vertical-align: top;\n",
              "    }\n",
              "\n",
              "    .dataframe thead th {\n",
              "        text-align: right;\n",
              "    }\n",
              "</style>\n",
              "<table border=\"1\" class=\"dataframe\">\n",
              "  <thead>\n",
              "    <tr style=\"text-align: right;\">\n",
              "      <th></th>\n",
              "      <th>#</th>\n",
              "      <th>Name</th>\n",
              "      <th>Type 1</th>\n",
              "      <th>Type 2</th>\n",
              "      <th>Total</th>\n",
              "      <th>HP</th>\n",
              "      <th>Attack</th>\n",
              "      <th>Defense</th>\n",
              "      <th>Sp. Atk</th>\n",
              "      <th>Sp. Def</th>\n",
              "      <th>Speed</th>\n",
              "      <th>Generation</th>\n",
              "      <th>Legendary</th>\n",
              "    </tr>\n",
              "  </thead>\n",
              "  <tbody>\n",
              "    <tr>\n",
              "      <th>0</th>\n",
              "      <td>1</td>\n",
              "      <td>Bulbasaur</td>\n",
              "      <td>Grass</td>\n",
              "      <td>Poison</td>\n",
              "      <td>318</td>\n",
              "      <td>45</td>\n",
              "      <td>49</td>\n",
              "      <td>49</td>\n",
              "      <td>65</td>\n",
              "      <td>65</td>\n",
              "      <td>45</td>\n",
              "      <td>1</td>\n",
              "      <td>False</td>\n",
              "    </tr>\n",
              "    <tr>\n",
              "      <th>1</th>\n",
              "      <td>2</td>\n",
              "      <td>Ivysaur</td>\n",
              "      <td>Grass</td>\n",
              "      <td>Poison</td>\n",
              "      <td>405</td>\n",
              "      <td>60</td>\n",
              "      <td>62</td>\n",
              "      <td>63</td>\n",
              "      <td>80</td>\n",
              "      <td>80</td>\n",
              "      <td>60</td>\n",
              "      <td>1</td>\n",
              "      <td>False</td>\n",
              "    </tr>\n",
              "    <tr>\n",
              "      <th>2</th>\n",
              "      <td>3</td>\n",
              "      <td>Venusaur</td>\n",
              "      <td>Grass</td>\n",
              "      <td>Poison</td>\n",
              "      <td>525</td>\n",
              "      <td>80</td>\n",
              "      <td>82</td>\n",
              "      <td>83</td>\n",
              "      <td>100</td>\n",
              "      <td>100</td>\n",
              "      <td>80</td>\n",
              "      <td>1</td>\n",
              "      <td>False</td>\n",
              "    </tr>\n",
              "    <tr>\n",
              "      <th>3</th>\n",
              "      <td>3</td>\n",
              "      <td>VenusaurMega Venusaur</td>\n",
              "      <td>Grass</td>\n",
              "      <td>Poison</td>\n",
              "      <td>625</td>\n",
              "      <td>80</td>\n",
              "      <td>100</td>\n",
              "      <td>123</td>\n",
              "      <td>122</td>\n",
              "      <td>120</td>\n",
              "      <td>80</td>\n",
              "      <td>1</td>\n",
              "      <td>False</td>\n",
              "    </tr>\n",
              "    <tr>\n",
              "      <th>4</th>\n",
              "      <td>4</td>\n",
              "      <td>Charmander</td>\n",
              "      <td>Fire</td>\n",
              "      <td>NaN</td>\n",
              "      <td>309</td>\n",
              "      <td>39</td>\n",
              "      <td>52</td>\n",
              "      <td>43</td>\n",
              "      <td>60</td>\n",
              "      <td>50</td>\n",
              "      <td>65</td>\n",
              "      <td>1</td>\n",
              "      <td>False</td>\n",
              "    </tr>\n",
              "    <tr>\n",
              "      <th>5</th>\n",
              "      <td>5</td>\n",
              "      <td>Charmeleon</td>\n",
              "      <td>Fire</td>\n",
              "      <td>NaN</td>\n",
              "      <td>405</td>\n",
              "      <td>58</td>\n",
              "      <td>64</td>\n",
              "      <td>58</td>\n",
              "      <td>80</td>\n",
              "      <td>65</td>\n",
              "      <td>80</td>\n",
              "      <td>1</td>\n",
              "      <td>False</td>\n",
              "    </tr>\n",
              "    <tr>\n",
              "      <th>6</th>\n",
              "      <td>6</td>\n",
              "      <td>Charizard</td>\n",
              "      <td>Fire</td>\n",
              "      <td>Flying</td>\n",
              "      <td>534</td>\n",
              "      <td>78</td>\n",
              "      <td>84</td>\n",
              "      <td>78</td>\n",
              "      <td>109</td>\n",
              "      <td>85</td>\n",
              "      <td>100</td>\n",
              "      <td>1</td>\n",
              "      <td>False</td>\n",
              "    </tr>\n",
              "    <tr>\n",
              "      <th>7</th>\n",
              "      <td>6</td>\n",
              "      <td>CharizardMega Charizard X</td>\n",
              "      <td>Fire</td>\n",
              "      <td>Dragon</td>\n",
              "      <td>634</td>\n",
              "      <td>78</td>\n",
              "      <td>130</td>\n",
              "      <td>111</td>\n",
              "      <td>130</td>\n",
              "      <td>85</td>\n",
              "      <td>100</td>\n",
              "      <td>1</td>\n",
              "      <td>False</td>\n",
              "    </tr>\n",
              "    <tr>\n",
              "      <th>8</th>\n",
              "      <td>6</td>\n",
              "      <td>CharizardMega Charizard Y</td>\n",
              "      <td>Fire</td>\n",
              "      <td>Flying</td>\n",
              "      <td>634</td>\n",
              "      <td>78</td>\n",
              "      <td>104</td>\n",
              "      <td>78</td>\n",
              "      <td>159</td>\n",
              "      <td>115</td>\n",
              "      <td>100</td>\n",
              "      <td>1</td>\n",
              "      <td>False</td>\n",
              "    </tr>\n",
              "    <tr>\n",
              "      <th>9</th>\n",
              "      <td>7</td>\n",
              "      <td>Squirtle</td>\n",
              "      <td>Water</td>\n",
              "      <td>NaN</td>\n",
              "      <td>314</td>\n",
              "      <td>44</td>\n",
              "      <td>48</td>\n",
              "      <td>65</td>\n",
              "      <td>50</td>\n",
              "      <td>64</td>\n",
              "      <td>43</td>\n",
              "      <td>1</td>\n",
              "      <td>False</td>\n",
              "    </tr>\n",
              "  </tbody>\n",
              "</table>\n",
              "</div>\n",
              "      <button class=\"colab-df-convert\" onclick=\"convertToInteractive('df-6011b69e-f108-4ef1-8236-4a64e00c87cc')\"\n",
              "              title=\"Convert this dataframe to an interactive table.\"\n",
              "              style=\"display:none;\">\n",
              "        \n",
              "  <svg xmlns=\"http://www.w3.org/2000/svg\" height=\"24px\"viewBox=\"0 0 24 24\"\n",
              "       width=\"24px\">\n",
              "    <path d=\"M0 0h24v24H0V0z\" fill=\"none\"/>\n",
              "    <path d=\"M18.56 5.44l.94 2.06.94-2.06 2.06-.94-2.06-.94-.94-2.06-.94 2.06-2.06.94zm-11 1L8.5 8.5l.94-2.06 2.06-.94-2.06-.94L8.5 2.5l-.94 2.06-2.06.94zm10 10l.94 2.06.94-2.06 2.06-.94-2.06-.94-.94-2.06-.94 2.06-2.06.94z\"/><path d=\"M17.41 7.96l-1.37-1.37c-.4-.4-.92-.59-1.43-.59-.52 0-1.04.2-1.43.59L10.3 9.45l-7.72 7.72c-.78.78-.78 2.05 0 2.83L4 21.41c.39.39.9.59 1.41.59.51 0 1.02-.2 1.41-.59l7.78-7.78 2.81-2.81c.8-.78.8-2.07 0-2.86zM5.41 20L4 18.59l7.72-7.72 1.47 1.35L5.41 20z\"/>\n",
              "  </svg>\n",
              "      </button>\n",
              "      \n",
              "  <style>\n",
              "    .colab-df-container {\n",
              "      display:flex;\n",
              "      flex-wrap:wrap;\n",
              "      gap: 12px;\n",
              "    }\n",
              "\n",
              "    .colab-df-convert {\n",
              "      background-color: #E8F0FE;\n",
              "      border: none;\n",
              "      border-radius: 50%;\n",
              "      cursor: pointer;\n",
              "      display: none;\n",
              "      fill: #1967D2;\n",
              "      height: 32px;\n",
              "      padding: 0 0 0 0;\n",
              "      width: 32px;\n",
              "    }\n",
              "\n",
              "    .colab-df-convert:hover {\n",
              "      background-color: #E2EBFA;\n",
              "      box-shadow: 0px 1px 2px rgba(60, 64, 67, 0.3), 0px 1px 3px 1px rgba(60, 64, 67, 0.15);\n",
              "      fill: #174EA6;\n",
              "    }\n",
              "\n",
              "    [theme=dark] .colab-df-convert {\n",
              "      background-color: #3B4455;\n",
              "      fill: #D2E3FC;\n",
              "    }\n",
              "\n",
              "    [theme=dark] .colab-df-convert:hover {\n",
              "      background-color: #434B5C;\n",
              "      box-shadow: 0px 1px 3px 1px rgba(0, 0, 0, 0.15);\n",
              "      filter: drop-shadow(0px 1px 2px rgba(0, 0, 0, 0.3));\n",
              "      fill: #FFFFFF;\n",
              "    }\n",
              "  </style>\n",
              "\n",
              "      <script>\n",
              "        const buttonEl =\n",
              "          document.querySelector('#df-6011b69e-f108-4ef1-8236-4a64e00c87cc button.colab-df-convert');\n",
              "        buttonEl.style.display =\n",
              "          google.colab.kernel.accessAllowed ? 'block' : 'none';\n",
              "\n",
              "        async function convertToInteractive(key) {\n",
              "          const element = document.querySelector('#df-6011b69e-f108-4ef1-8236-4a64e00c87cc');\n",
              "          const dataTable =\n",
              "            await google.colab.kernel.invokeFunction('convertToInteractive',\n",
              "                                                     [key], {});\n",
              "          if (!dataTable) return;\n",
              "\n",
              "          const docLinkHtml = 'Like what you see? Visit the ' +\n",
              "            '<a target=\"_blank\" href=https://colab.research.google.com/notebooks/data_table.ipynb>data table notebook</a>'\n",
              "            + ' to learn more about interactive tables.';\n",
              "          element.innerHTML = '';\n",
              "          dataTable['output_type'] = 'display_data';\n",
              "          await google.colab.output.renderOutput(dataTable, element);\n",
              "          const docLink = document.createElement('div');\n",
              "          docLink.innerHTML = docLinkHtml;\n",
              "          element.appendChild(docLink);\n",
              "        }\n",
              "      </script>\n",
              "    </div>\n",
              "  </div>\n",
              "  "
            ],
            "text/plain": [
              "   #                       Name Type 1  ... Speed  Generation  Legendary\n",
              "0  1                  Bulbasaur  Grass  ...    45           1      False\n",
              "1  2                    Ivysaur  Grass  ...    60           1      False\n",
              "2  3                   Venusaur  Grass  ...    80           1      False\n",
              "3  3      VenusaurMega Venusaur  Grass  ...    80           1      False\n",
              "4  4                 Charmander   Fire  ...    65           1      False\n",
              "5  5                 Charmeleon   Fire  ...    80           1      False\n",
              "6  6                  Charizard   Fire  ...   100           1      False\n",
              "7  6  CharizardMega Charizard X   Fire  ...   100           1      False\n",
              "8  6  CharizardMega Charizard Y   Fire  ...   100           1      False\n",
              "9  7                   Squirtle  Water  ...    43           1      False\n",
              "\n",
              "[10 rows x 13 columns]"
            ]
          },
          "metadata": {},
          "execution_count": 40
        }
      ]
    },
    {
      "cell_type": "markdown",
      "source": [
        "Statistika Dasar Dataset"
      ],
      "metadata": {
        "id": "vipzL-5iwalG"
      }
    },
    {
      "cell_type": "code",
      "source": [
        "#Menampilkan Basics Statistics\n",
        "df.describe()"
      ],
      "metadata": {
        "colab": {
          "base_uri": "https://localhost:8080/",
          "height": 364
        },
        "id": "p9HjQonO2cG9",
        "outputId": "1e8a431d-46b9-4880-93f8-b55b0d1f6814"
      },
      "execution_count": null,
      "outputs": [
        {
          "output_type": "execute_result",
          "data": {
            "text/html": [
              "\n",
              "  <div id=\"df-252b5dcc-5f90-473c-893f-ee08af19abaa\">\n",
              "    <div class=\"colab-df-container\">\n",
              "      <div>\n",
              "<style scoped>\n",
              "    .dataframe tbody tr th:only-of-type {\n",
              "        vertical-align: middle;\n",
              "    }\n",
              "\n",
              "    .dataframe tbody tr th {\n",
              "        vertical-align: top;\n",
              "    }\n",
              "\n",
              "    .dataframe thead th {\n",
              "        text-align: right;\n",
              "    }\n",
              "</style>\n",
              "<table border=\"1\" class=\"dataframe\">\n",
              "  <thead>\n",
              "    <tr style=\"text-align: right;\">\n",
              "      <th></th>\n",
              "      <th>#</th>\n",
              "      <th>Total</th>\n",
              "      <th>HP</th>\n",
              "      <th>Attack</th>\n",
              "      <th>Defense</th>\n",
              "      <th>Sp. Atk</th>\n",
              "      <th>Sp. Def</th>\n",
              "      <th>Speed</th>\n",
              "      <th>Generation</th>\n",
              "    </tr>\n",
              "  </thead>\n",
              "  <tbody>\n",
              "    <tr>\n",
              "      <th>count</th>\n",
              "      <td>800.000000</td>\n",
              "      <td>800.00000</td>\n",
              "      <td>800.000000</td>\n",
              "      <td>800.000000</td>\n",
              "      <td>800.000000</td>\n",
              "      <td>800.000000</td>\n",
              "      <td>800.000000</td>\n",
              "      <td>800.000000</td>\n",
              "      <td>800.00000</td>\n",
              "    </tr>\n",
              "    <tr>\n",
              "      <th>mean</th>\n",
              "      <td>362.813750</td>\n",
              "      <td>435.10250</td>\n",
              "      <td>69.258750</td>\n",
              "      <td>79.001250</td>\n",
              "      <td>73.842500</td>\n",
              "      <td>72.820000</td>\n",
              "      <td>71.902500</td>\n",
              "      <td>68.277500</td>\n",
              "      <td>3.32375</td>\n",
              "    </tr>\n",
              "    <tr>\n",
              "      <th>std</th>\n",
              "      <td>208.343798</td>\n",
              "      <td>119.96304</td>\n",
              "      <td>25.534669</td>\n",
              "      <td>32.457366</td>\n",
              "      <td>31.183501</td>\n",
              "      <td>32.722294</td>\n",
              "      <td>27.828916</td>\n",
              "      <td>29.060474</td>\n",
              "      <td>1.66129</td>\n",
              "    </tr>\n",
              "    <tr>\n",
              "      <th>min</th>\n",
              "      <td>1.000000</td>\n",
              "      <td>180.00000</td>\n",
              "      <td>1.000000</td>\n",
              "      <td>5.000000</td>\n",
              "      <td>5.000000</td>\n",
              "      <td>10.000000</td>\n",
              "      <td>20.000000</td>\n",
              "      <td>5.000000</td>\n",
              "      <td>1.00000</td>\n",
              "    </tr>\n",
              "    <tr>\n",
              "      <th>25%</th>\n",
              "      <td>184.750000</td>\n",
              "      <td>330.00000</td>\n",
              "      <td>50.000000</td>\n",
              "      <td>55.000000</td>\n",
              "      <td>50.000000</td>\n",
              "      <td>49.750000</td>\n",
              "      <td>50.000000</td>\n",
              "      <td>45.000000</td>\n",
              "      <td>2.00000</td>\n",
              "    </tr>\n",
              "    <tr>\n",
              "      <th>50%</th>\n",
              "      <td>364.500000</td>\n",
              "      <td>450.00000</td>\n",
              "      <td>65.000000</td>\n",
              "      <td>75.000000</td>\n",
              "      <td>70.000000</td>\n",
              "      <td>65.000000</td>\n",
              "      <td>70.000000</td>\n",
              "      <td>65.000000</td>\n",
              "      <td>3.00000</td>\n",
              "    </tr>\n",
              "    <tr>\n",
              "      <th>75%</th>\n",
              "      <td>539.250000</td>\n",
              "      <td>515.00000</td>\n",
              "      <td>80.000000</td>\n",
              "      <td>100.000000</td>\n",
              "      <td>90.000000</td>\n",
              "      <td>95.000000</td>\n",
              "      <td>90.000000</td>\n",
              "      <td>90.000000</td>\n",
              "      <td>5.00000</td>\n",
              "    </tr>\n",
              "    <tr>\n",
              "      <th>max</th>\n",
              "      <td>721.000000</td>\n",
              "      <td>780.00000</td>\n",
              "      <td>255.000000</td>\n",
              "      <td>190.000000</td>\n",
              "      <td>230.000000</td>\n",
              "      <td>194.000000</td>\n",
              "      <td>230.000000</td>\n",
              "      <td>180.000000</td>\n",
              "      <td>6.00000</td>\n",
              "    </tr>\n",
              "  </tbody>\n",
              "</table>\n",
              "</div>\n",
              "      <button class=\"colab-df-convert\" onclick=\"convertToInteractive('df-252b5dcc-5f90-473c-893f-ee08af19abaa')\"\n",
              "              title=\"Convert this dataframe to an interactive table.\"\n",
              "              style=\"display:none;\">\n",
              "        \n",
              "  <svg xmlns=\"http://www.w3.org/2000/svg\" height=\"24px\"viewBox=\"0 0 24 24\"\n",
              "       width=\"24px\">\n",
              "    <path d=\"M0 0h24v24H0V0z\" fill=\"none\"/>\n",
              "    <path d=\"M18.56 5.44l.94 2.06.94-2.06 2.06-.94-2.06-.94-.94-2.06-.94 2.06-2.06.94zm-11 1L8.5 8.5l.94-2.06 2.06-.94-2.06-.94L8.5 2.5l-.94 2.06-2.06.94zm10 10l.94 2.06.94-2.06 2.06-.94-2.06-.94-.94-2.06-.94 2.06-2.06.94z\"/><path d=\"M17.41 7.96l-1.37-1.37c-.4-.4-.92-.59-1.43-.59-.52 0-1.04.2-1.43.59L10.3 9.45l-7.72 7.72c-.78.78-.78 2.05 0 2.83L4 21.41c.39.39.9.59 1.41.59.51 0 1.02-.2 1.41-.59l7.78-7.78 2.81-2.81c.8-.78.8-2.07 0-2.86zM5.41 20L4 18.59l7.72-7.72 1.47 1.35L5.41 20z\"/>\n",
              "  </svg>\n",
              "      </button>\n",
              "      \n",
              "  <style>\n",
              "    .colab-df-container {\n",
              "      display:flex;\n",
              "      flex-wrap:wrap;\n",
              "      gap: 12px;\n",
              "    }\n",
              "\n",
              "    .colab-df-convert {\n",
              "      background-color: #E8F0FE;\n",
              "      border: none;\n",
              "      border-radius: 50%;\n",
              "      cursor: pointer;\n",
              "      display: none;\n",
              "      fill: #1967D2;\n",
              "      height: 32px;\n",
              "      padding: 0 0 0 0;\n",
              "      width: 32px;\n",
              "    }\n",
              "\n",
              "    .colab-df-convert:hover {\n",
              "      background-color: #E2EBFA;\n",
              "      box-shadow: 0px 1px 2px rgba(60, 64, 67, 0.3), 0px 1px 3px 1px rgba(60, 64, 67, 0.15);\n",
              "      fill: #174EA6;\n",
              "    }\n",
              "\n",
              "    [theme=dark] .colab-df-convert {\n",
              "      background-color: #3B4455;\n",
              "      fill: #D2E3FC;\n",
              "    }\n",
              "\n",
              "    [theme=dark] .colab-df-convert:hover {\n",
              "      background-color: #434B5C;\n",
              "      box-shadow: 0px 1px 3px 1px rgba(0, 0, 0, 0.15);\n",
              "      filter: drop-shadow(0px 1px 2px rgba(0, 0, 0, 0.3));\n",
              "      fill: #FFFFFF;\n",
              "    }\n",
              "  </style>\n",
              "\n",
              "      <script>\n",
              "        const buttonEl =\n",
              "          document.querySelector('#df-252b5dcc-5f90-473c-893f-ee08af19abaa button.colab-df-convert');\n",
              "        buttonEl.style.display =\n",
              "          google.colab.kernel.accessAllowed ? 'block' : 'none';\n",
              "\n",
              "        async function convertToInteractive(key) {\n",
              "          const element = document.querySelector('#df-252b5dcc-5f90-473c-893f-ee08af19abaa');\n",
              "          const dataTable =\n",
              "            await google.colab.kernel.invokeFunction('convertToInteractive',\n",
              "                                                     [key], {});\n",
              "          if (!dataTable) return;\n",
              "\n",
              "          const docLinkHtml = 'Like what you see? Visit the ' +\n",
              "            '<a target=\"_blank\" href=https://colab.research.google.com/notebooks/data_table.ipynb>data table notebook</a>'\n",
              "            + ' to learn more about interactive tables.';\n",
              "          element.innerHTML = '';\n",
              "          dataTable['output_type'] = 'display_data';\n",
              "          await google.colab.output.renderOutput(dataTable, element);\n",
              "          const docLink = document.createElement('div');\n",
              "          docLink.innerHTML = docLinkHtml;\n",
              "          element.appendChild(docLink);\n",
              "        }\n",
              "      </script>\n",
              "    </div>\n",
              "  </div>\n",
              "  "
            ],
            "text/plain": [
              "                #      Total          HP  ...     Sp. Def       Speed  Generation\n",
              "count  800.000000  800.00000  800.000000  ...  800.000000  800.000000   800.00000\n",
              "mean   362.813750  435.10250   69.258750  ...   71.902500   68.277500     3.32375\n",
              "std    208.343798  119.96304   25.534669  ...   27.828916   29.060474     1.66129\n",
              "min      1.000000  180.00000    1.000000  ...   20.000000    5.000000     1.00000\n",
              "25%    184.750000  330.00000   50.000000  ...   50.000000   45.000000     2.00000\n",
              "50%    364.500000  450.00000   65.000000  ...   70.000000   65.000000     3.00000\n",
              "75%    539.250000  515.00000   80.000000  ...   90.000000   90.000000     5.00000\n",
              "max    721.000000  780.00000  255.000000  ...  230.000000  180.000000     6.00000\n",
              "\n",
              "[8 rows x 9 columns]"
            ]
          },
          "metadata": {},
          "execution_count": 41
        }
      ]
    },
    {
      "cell_type": "markdown",
      "source": [
        "Value - Value Spesifik"
      ],
      "metadata": {
        "id": "wlbOTsHCwhCD"
      }
    },
    {
      "cell_type": "code",
      "source": [
        "#Menampilkan specific value\n",
        "#Name\n",
        "df[\"Name\"].value_counts()"
      ],
      "metadata": {
        "colab": {
          "base_uri": "https://localhost:8080/"
        },
        "id": "Fo0muRR9s9fd",
        "outputId": "4034de84-02ea-4333-a622-170f3fa8f119"
      },
      "execution_count": null,
      "outputs": [
        {
          "output_type": "execute_result",
          "data": {
            "text/plain": [
              "GourgeistLarge Size      1\n",
              "Zekrom                   1\n",
              "Gastrodon                1\n",
              "Seel                     1\n",
              "Pineco                   1\n",
              "                        ..\n",
              "BanetteMega Banette      1\n",
              "Whismur                  1\n",
              "GengarMega Gengar        1\n",
              "Togepi                   1\n",
              "GroudonPrimal Groudon    1\n",
              "Name: Name, Length: 800, dtype: int64"
            ]
          },
          "metadata": {},
          "execution_count": 42
        }
      ]
    },
    {
      "cell_type": "code",
      "source": [
        "#Menampilkan specific value\n",
        "#HP\n",
        "df[\"HP\"].value_counts()"
      ],
      "metadata": {
        "colab": {
          "base_uri": "https://localhost:8080/"
        },
        "id": "BNufQM7vtatH",
        "outputId": "887f5577-99f6-48d5-b2ac-6edb5b07142b"
      },
      "execution_count": null,
      "outputs": [
        {
          "output_type": "execute_result",
          "data": {
            "text/plain": [
              "60     67\n",
              "50     63\n",
              "70     57\n",
              "65     46\n",
              "75     43\n",
              "       ..\n",
              "92      1\n",
              "88      1\n",
              "81      1\n",
              "250     1\n",
              "1       1\n",
              "Name: HP, Length: 94, dtype: int64"
            ]
          },
          "metadata": {},
          "execution_count": 43
        }
      ]
    },
    {
      "cell_type": "markdown",
      "source": [
        "HP Pokemon Ivysaur"
      ],
      "metadata": {
        "id": "QLZITSiCwnin"
      }
    },
    {
      "cell_type": "code",
      "source": [
        "#Menampilkan HP Pokemon tertentu\n",
        "#Misal HP Ivysaur\n",
        "df.loc[df[\"Name\"]== \"Ivysaur\",\"HP\"].value_counts()"
      ],
      "metadata": {
        "colab": {
          "base_uri": "https://localhost:8080/"
        },
        "id": "xqwdeA2wtmUO",
        "outputId": "729d90fc-e905-4b29-d1da-0143f832a56d"
      },
      "execution_count": null,
      "outputs": [
        {
          "output_type": "execute_result",
          "data": {
            "text/plain": [
              "60    1\n",
              "Name: HP, dtype: int64"
            ]
          },
          "metadata": {},
          "execution_count": 44
        }
      ]
    },
    {
      "cell_type": "markdown",
      "source": [
        "Nilai Tinggi dan Rendah Attack Pokemon Charmander"
      ],
      "metadata": {
        "id": "CVDVykj3xCbv"
      }
    },
    {
      "cell_type": "code",
      "source": [
        "#Menampilkan Pokemon Nilai Tinggi Rendah Attack Charmander\n",
        "df.loc[df[\"Name\"] == \"Charmander\", \"Attack\"].agg((\"min\",\"max\"))"
      ],
      "metadata": {
        "colab": {
          "base_uri": "https://localhost:8080/"
        },
        "id": "4OQzkfPoud16",
        "outputId": "d2bcd2d2-adaf-4c2c-cddb-8134d1b9b079"
      },
      "execution_count": 140,
      "outputs": [
        {
          "output_type": "execute_result",
          "data": {
            "text/plain": [
              "min    52\n",
              "max    52\n",
              "Name: Attack, dtype: int64"
            ]
          },
          "metadata": {},
          "execution_count": 140
        }
      ]
    },
    {
      "cell_type": "markdown",
      "source": [
        "### **iv. Data cleaning**"
      ],
      "metadata": {
        "id": "vIPJCF7Fr7PN"
      }
    },
    {
      "cell_type": "markdown",
      "source": [
        "Melihat info kolom yang terisi"
      ],
      "metadata": {
        "id": "Fm0z7mT1xJ8f"
      }
    },
    {
      "cell_type": "code",
      "source": [
        "#Melihat info non-null values dengan .info()\n",
        "\n",
        "df.info()"
      ],
      "metadata": {
        "colab": {
          "base_uri": "https://localhost:8080/"
        },
        "id": "0ERqMbjQwQnS",
        "outputId": "5ca08b1f-4159-4dde-f042-89c1994876b1"
      },
      "execution_count": null,
      "outputs": [
        {
          "output_type": "stream",
          "name": "stdout",
          "text": [
            "<class 'pandas.core.frame.DataFrame'>\n",
            "RangeIndex: 800 entries, 0 to 799\n",
            "Data columns (total 13 columns):\n",
            " #   Column      Non-Null Count  Dtype \n",
            "---  ------      --------------  ----- \n",
            " 0   #           800 non-null    int64 \n",
            " 1   Name        800 non-null    object\n",
            " 2   Type 1      800 non-null    object\n",
            " 3   Type 2      414 non-null    object\n",
            " 4   Total       800 non-null    int64 \n",
            " 5   HP          800 non-null    int64 \n",
            " 6   Attack      800 non-null    int64 \n",
            " 7   Defense     800 non-null    int64 \n",
            " 8   Sp. Atk     800 non-null    int64 \n",
            " 9   Sp. Def     800 non-null    int64 \n",
            " 10  Speed       800 non-null    int64 \n",
            " 11  Generation  800 non-null    int64 \n",
            " 12  Legendary   800 non-null    bool  \n",
            "dtypes: bool(1), int64(9), object(3)\n",
            "memory usage: 75.9+ KB\n"
          ]
        }
      ]
    },
    {
      "cell_type": "markdown",
      "source": [
        "Disini ditunjukkan ada 800 data untuk tiap kolom. Namun, untuk kolom \"Type 2\" hanya terdapat 414 non-null, yang berarti terdapat 386 baris yang kosong pada kolom tersebut."
      ],
      "metadata": {
        "id": "g2AjqlPJweGo"
      }
    },
    {
      "cell_type": "markdown",
      "source": [
        "**Missing  values**\n",
        "\n",
        "\n",
        "Membuang semua baris yang kosong"
      ],
      "metadata": {
        "id": "qC2rrLSkyRgn"
      }
    },
    {
      "cell_type": "code",
      "source": [
        "#Buang semua baris yang kosong dengan .dropna()\n",
        "rows_without_missing_data=df.dropna()"
      ],
      "metadata": {
        "id": "2VY5fKtXxGqV"
      },
      "execution_count": null,
      "outputs": []
    },
    {
      "cell_type": "code",
      "source": [
        "#Sekarang, lihat bentuk data setelah baris kosong dibuang\n",
        "rows_without_missing_data.shape"
      ],
      "metadata": {
        "colab": {
          "base_uri": "https://localhost:8080/"
        },
        "id": "iMwRk8EexXgN",
        "outputId": "0cbc4deb-b81d-48ed-d38e-f839a98ed108"
      },
      "execution_count": null,
      "outputs": [
        {
          "output_type": "execute_result",
          "data": {
            "text/plain": [
              "(414, 13)"
            ]
          },
          "metadata": {},
          "execution_count": 48
        }
      ]
    },
    {
      "cell_type": "markdown",
      "source": [
        "**Manipulating Columns**\n",
        "\n",
        "Membuang kolom dengan baris yang kosong"
      ],
      "metadata": {
        "id": "WXxv6Y5AynPl"
      }
    },
    {
      "cell_type": "code",
      "source": [
        "#Buang hanya kolom yang punya baris kosong\n",
        "data_without_missing_columns = df.dropna(axis=1)"
      ],
      "metadata": {
        "id": "blRWGk2lxpea"
      },
      "execution_count": null,
      "outputs": []
    },
    {
      "cell_type": "code",
      "source": [
        "#Sekarang, lihat bentuk data setelah kolom dengan baris kosong dibuang\n",
        "data_without_missing_columns.shape"
      ],
      "metadata": {
        "colab": {
          "base_uri": "https://localhost:8080/"
        },
        "id": "p9GL1IM4xvbf",
        "outputId": "0e57c0cc-3e3f-4898-fc5b-24b03b2bd0f8"
      },
      "execution_count": null,
      "outputs": [
        {
          "output_type": "execute_result",
          "data": {
            "text/plain": [
              "(800, 12)"
            ]
          },
          "metadata": {},
          "execution_count": 50
        }
      ]
    },
    {
      "cell_type": "code",
      "source": [
        "#Buat copy dataset\n",
        "data_with_default_notes = df.copy()"
      ],
      "metadata": {
        "id": "dkXyNZs4yGq6"
      },
      "execution_count": null,
      "outputs": []
    },
    {
      "cell_type": "code",
      "source": [
        "#Buat note untuk data dengan value yang kosong \n",
        "#(dalam data ini kolom \"Type 2\" memiliki banyak baris kosong)\n",
        "data_with_default_notes[\"Type 2\"].fillna(\n",
        "    value=\"-\",\n",
        "    inplace=True\n",
        ")"
      ],
      "metadata": {
        "id": "33xbv-R90UqT"
      },
      "execution_count": null,
      "outputs": []
    },
    {
      "cell_type": "code",
      "source": [
        "data_with_default_notes[\"Type 2\"].describe"
      ],
      "metadata": {
        "colab": {
          "base_uri": "https://localhost:8080/"
        },
        "id": "hOMkpBRL1AWM",
        "outputId": "405635bb-7816-438c-f719-981e09879661"
      },
      "execution_count": null,
      "outputs": [
        {
          "output_type": "execute_result",
          "data": {
            "text/plain": [
              "<bound method NDFrame.describe of 0      Poison\n",
              "1      Poison\n",
              "2      Poison\n",
              "3      Poison\n",
              "4           -\n",
              "        ...  \n",
              "795     Fairy\n",
              "796     Fairy\n",
              "797     Ghost\n",
              "798      Dark\n",
              "799     Water\n",
              "Name: Type 2, Length: 800, dtype: object>"
            ]
          },
          "metadata": {},
          "execution_count": 53
        }
      ]
    },
    {
      "cell_type": "markdown",
      "source": [
        "### **v. Eksplorasi Data**"
      ],
      "metadata": {
        "id": "HyE5ZC2I1MHu"
      }
    },
    {
      "cell_type": "markdown",
      "source": [
        "**Data Query**"
      ],
      "metadata": {
        "id": "tOXZRCv9RFKo"
      }
    },
    {
      "cell_type": "markdown",
      "source": [
        "*Query 1*\n",
        "\n",
        "\n",
        "\n",
        "Membuat Data Pokemon yang kemungkinan menang paling besar  (Total > 700, punya Tipe 1 dan Tipe 2)"
      ],
      "metadata": {
        "id": "D1hMe3QcRZIF"
      }
    },
    {
      "cell_type": "code",
      "source": [
        "pokemonjago = data_without_missing_columns[data_without_missing_columns[\"Total\"] > 700]"
      ],
      "metadata": {
        "id": "Ajjmy4caRYja"
      },
      "execution_count": null,
      "outputs": []
    },
    {
      "cell_type": "code",
      "source": [
        "pokemonjago"
      ],
      "metadata": {
        "colab": {
          "base_uri": "https://localhost:8080/",
          "height": 406
        },
        "id": "zCTIoHpIRDfX",
        "outputId": "dfc8e69d-2216-48b5-b76b-31070180f178"
      },
      "execution_count": 62,
      "outputs": [
        {
          "output_type": "execute_result",
          "data": {
            "text/html": [
              "\n",
              "  <div id=\"df-14e5ee2c-0703-4648-be65-0e5faf94c649\">\n",
              "    <div class=\"colab-df-container\">\n",
              "      <div>\n",
              "<style scoped>\n",
              "    .dataframe tbody tr th:only-of-type {\n",
              "        vertical-align: middle;\n",
              "    }\n",
              "\n",
              "    .dataframe tbody tr th {\n",
              "        vertical-align: top;\n",
              "    }\n",
              "\n",
              "    .dataframe thead th {\n",
              "        text-align: right;\n",
              "    }\n",
              "</style>\n",
              "<table border=\"1\" class=\"dataframe\">\n",
              "  <thead>\n",
              "    <tr style=\"text-align: right;\">\n",
              "      <th></th>\n",
              "      <th>#</th>\n",
              "      <th>Name</th>\n",
              "      <th>Type 1</th>\n",
              "      <th>Total</th>\n",
              "      <th>HP</th>\n",
              "      <th>Attack</th>\n",
              "      <th>Defense</th>\n",
              "      <th>Sp. Atk</th>\n",
              "      <th>Sp. Def</th>\n",
              "      <th>Speed</th>\n",
              "      <th>Generation</th>\n",
              "      <th>Legendary</th>\n",
              "    </tr>\n",
              "  </thead>\n",
              "  <tbody>\n",
              "    <tr>\n",
              "      <th>163</th>\n",
              "      <td>150</td>\n",
              "      <td>MewtwoMega Mewtwo X</td>\n",
              "      <td>Psychic</td>\n",
              "      <td>780</td>\n",
              "      <td>106</td>\n",
              "      <td>190</td>\n",
              "      <td>100</td>\n",
              "      <td>154</td>\n",
              "      <td>100</td>\n",
              "      <td>130</td>\n",
              "      <td>1</td>\n",
              "      <td>True</td>\n",
              "    </tr>\n",
              "    <tr>\n",
              "      <th>164</th>\n",
              "      <td>150</td>\n",
              "      <td>MewtwoMega Mewtwo Y</td>\n",
              "      <td>Psychic</td>\n",
              "      <td>780</td>\n",
              "      <td>106</td>\n",
              "      <td>150</td>\n",
              "      <td>70</td>\n",
              "      <td>194</td>\n",
              "      <td>120</td>\n",
              "      <td>140</td>\n",
              "      <td>1</td>\n",
              "      <td>True</td>\n",
              "    </tr>\n",
              "    <tr>\n",
              "      <th>422</th>\n",
              "      <td>382</td>\n",
              "      <td>KyogrePrimal Kyogre</td>\n",
              "      <td>Water</td>\n",
              "      <td>770</td>\n",
              "      <td>100</td>\n",
              "      <td>150</td>\n",
              "      <td>90</td>\n",
              "      <td>180</td>\n",
              "      <td>160</td>\n",
              "      <td>90</td>\n",
              "      <td>3</td>\n",
              "      <td>True</td>\n",
              "    </tr>\n",
              "    <tr>\n",
              "      <th>424</th>\n",
              "      <td>383</td>\n",
              "      <td>GroudonPrimal Groudon</td>\n",
              "      <td>Ground</td>\n",
              "      <td>770</td>\n",
              "      <td>100</td>\n",
              "      <td>180</td>\n",
              "      <td>160</td>\n",
              "      <td>150</td>\n",
              "      <td>90</td>\n",
              "      <td>90</td>\n",
              "      <td>3</td>\n",
              "      <td>True</td>\n",
              "    </tr>\n",
              "    <tr>\n",
              "      <th>426</th>\n",
              "      <td>384</td>\n",
              "      <td>RayquazaMega Rayquaza</td>\n",
              "      <td>Dragon</td>\n",
              "      <td>780</td>\n",
              "      <td>105</td>\n",
              "      <td>180</td>\n",
              "      <td>100</td>\n",
              "      <td>180</td>\n",
              "      <td>100</td>\n",
              "      <td>115</td>\n",
              "      <td>3</td>\n",
              "      <td>True</td>\n",
              "    </tr>\n",
              "    <tr>\n",
              "      <th>552</th>\n",
              "      <td>493</td>\n",
              "      <td>Arceus</td>\n",
              "      <td>Normal</td>\n",
              "      <td>720</td>\n",
              "      <td>120</td>\n",
              "      <td>120</td>\n",
              "      <td>120</td>\n",
              "      <td>120</td>\n",
              "      <td>120</td>\n",
              "      <td>120</td>\n",
              "      <td>4</td>\n",
              "      <td>True</td>\n",
              "    </tr>\n",
              "  </tbody>\n",
              "</table>\n",
              "</div>\n",
              "      <button class=\"colab-df-convert\" onclick=\"convertToInteractive('df-14e5ee2c-0703-4648-be65-0e5faf94c649')\"\n",
              "              title=\"Convert this dataframe to an interactive table.\"\n",
              "              style=\"display:none;\">\n",
              "        \n",
              "  <svg xmlns=\"http://www.w3.org/2000/svg\" height=\"24px\"viewBox=\"0 0 24 24\"\n",
              "       width=\"24px\">\n",
              "    <path d=\"M0 0h24v24H0V0z\" fill=\"none\"/>\n",
              "    <path d=\"M18.56 5.44l.94 2.06.94-2.06 2.06-.94-2.06-.94-.94-2.06-.94 2.06-2.06.94zm-11 1L8.5 8.5l.94-2.06 2.06-.94-2.06-.94L8.5 2.5l-.94 2.06-2.06.94zm10 10l.94 2.06.94-2.06 2.06-.94-2.06-.94-.94-2.06-.94 2.06-2.06.94z\"/><path d=\"M17.41 7.96l-1.37-1.37c-.4-.4-.92-.59-1.43-.59-.52 0-1.04.2-1.43.59L10.3 9.45l-7.72 7.72c-.78.78-.78 2.05 0 2.83L4 21.41c.39.39.9.59 1.41.59.51 0 1.02-.2 1.41-.59l7.78-7.78 2.81-2.81c.8-.78.8-2.07 0-2.86zM5.41 20L4 18.59l7.72-7.72 1.47 1.35L5.41 20z\"/>\n",
              "  </svg>\n",
              "      </button>\n",
              "      \n",
              "  <style>\n",
              "    .colab-df-container {\n",
              "      display:flex;\n",
              "      flex-wrap:wrap;\n",
              "      gap: 12px;\n",
              "    }\n",
              "\n",
              "    .colab-df-convert {\n",
              "      background-color: #E8F0FE;\n",
              "      border: none;\n",
              "      border-radius: 50%;\n",
              "      cursor: pointer;\n",
              "      display: none;\n",
              "      fill: #1967D2;\n",
              "      height: 32px;\n",
              "      padding: 0 0 0 0;\n",
              "      width: 32px;\n",
              "    }\n",
              "\n",
              "    .colab-df-convert:hover {\n",
              "      background-color: #E2EBFA;\n",
              "      box-shadow: 0px 1px 2px rgba(60, 64, 67, 0.3), 0px 1px 3px 1px rgba(60, 64, 67, 0.15);\n",
              "      fill: #174EA6;\n",
              "    }\n",
              "\n",
              "    [theme=dark] .colab-df-convert {\n",
              "      background-color: #3B4455;\n",
              "      fill: #D2E3FC;\n",
              "    }\n",
              "\n",
              "    [theme=dark] .colab-df-convert:hover {\n",
              "      background-color: #434B5C;\n",
              "      box-shadow: 0px 1px 3px 1px rgba(0, 0, 0, 0.15);\n",
              "      filter: drop-shadow(0px 1px 2px rgba(0, 0, 0, 0.3));\n",
              "      fill: #FFFFFF;\n",
              "    }\n",
              "  </style>\n",
              "\n",
              "      <script>\n",
              "        const buttonEl =\n",
              "          document.querySelector('#df-14e5ee2c-0703-4648-be65-0e5faf94c649 button.colab-df-convert');\n",
              "        buttonEl.style.display =\n",
              "          google.colab.kernel.accessAllowed ? 'block' : 'none';\n",
              "\n",
              "        async function convertToInteractive(key) {\n",
              "          const element = document.querySelector('#df-14e5ee2c-0703-4648-be65-0e5faf94c649');\n",
              "          const dataTable =\n",
              "            await google.colab.kernel.invokeFunction('convertToInteractive',\n",
              "                                                     [key], {});\n",
              "          if (!dataTable) return;\n",
              "\n",
              "          const docLinkHtml = 'Like what you see? Visit the ' +\n",
              "            '<a target=\"_blank\" href=https://colab.research.google.com/notebooks/data_table.ipynb>data table notebook</a>'\n",
              "            + ' to learn more about interactive tables.';\n",
              "          element.innerHTML = '';\n",
              "          dataTable['output_type'] = 'display_data';\n",
              "          await google.colab.output.renderOutput(dataTable, element);\n",
              "          const docLink = document.createElement('div');\n",
              "          docLink.innerHTML = docLinkHtml;\n",
              "          element.appendChild(docLink);\n",
              "        }\n",
              "      </script>\n",
              "    </div>\n",
              "  </div>\n",
              "  "
            ],
            "text/plain": [
              "       #                   Name   Type 1  ...  Speed  Generation  Legendary\n",
              "163  150    MewtwoMega Mewtwo X  Psychic  ...    130           1       True\n",
              "164  150    MewtwoMega Mewtwo Y  Psychic  ...    140           1       True\n",
              "422  382    KyogrePrimal Kyogre    Water  ...     90           3       True\n",
              "424  383  GroudonPrimal Groudon   Ground  ...     90           3       True\n",
              "426  384  RayquazaMega Rayquaza   Dragon  ...    115           3       True\n",
              "552  493                 Arceus   Normal  ...    120           4       True\n",
              "\n",
              "[6 rows x 12 columns]"
            ]
          },
          "metadata": {},
          "execution_count": 62
        }
      ]
    },
    {
      "cell_type": "markdown",
      "source": [
        "Pokemon terkuat ada 6 yakni MewtwoMega Mewtwo X, MewtwoMega Mewtwo Y, KyogrePrimal Kyogre, GroudonPrimal Groudon, RayquazaMega Rayquaza, dan Arceus. Dengan Total yang paling besar adalah pokemon MewtwoMega Mewtwo Y dan RayquazaMega Rayquaza."
      ],
      "metadata": {
        "id": "RZHMg14ts6Rk"
      }
    },
    {
      "cell_type": "markdown",
      "source": [
        "*Query 2*\n",
        "\n",
        "Data Pokemon yang baik untuk jadi defense (Attack, HP dan defense yang tinggi)"
      ],
      "metadata": {
        "id": "bZHcYiZIVAwz"
      }
    },
    {
      "cell_type": "code",
      "source": [
        "df[\n",
        "  (df[\"Attack\"] > 100) &\n",
        "  (df[\"Defense\"] > 150) &\n",
        "  (df[\"HP\"] > 80)\n",
        "   \n",
        "]"
      ],
      "metadata": {
        "id": "xsTDQvDPVASF",
        "colab": {
          "base_uri": "https://localhost:8080/",
          "height": 211
        },
        "outputId": "8a4dd1d3-ec8d-49c2-ea89-8588fd66c2d8"
      },
      "execution_count": 72,
      "outputs": [
        {
          "output_type": "execute_result",
          "data": {
            "text/html": [
              "\n",
              "  <div id=\"df-8842f335-0dff-4f4e-be94-d54cc2b9f42f\">\n",
              "    <div class=\"colab-df-container\">\n",
              "      <div>\n",
              "<style scoped>\n",
              "    .dataframe tbody tr th:only-of-type {\n",
              "        vertical-align: middle;\n",
              "    }\n",
              "\n",
              "    .dataframe tbody tr th {\n",
              "        vertical-align: top;\n",
              "    }\n",
              "\n",
              "    .dataframe thead th {\n",
              "        text-align: right;\n",
              "    }\n",
              "</style>\n",
              "<table border=\"1\" class=\"dataframe\">\n",
              "  <thead>\n",
              "    <tr style=\"text-align: right;\">\n",
              "      <th></th>\n",
              "      <th>#</th>\n",
              "      <th>Name</th>\n",
              "      <th>Type 1</th>\n",
              "      <th>Type 2</th>\n",
              "      <th>Total</th>\n",
              "      <th>HP</th>\n",
              "      <th>Attack</th>\n",
              "      <th>Defense</th>\n",
              "      <th>Sp. Atk</th>\n",
              "      <th>Sp. Def</th>\n",
              "      <th>Speed</th>\n",
              "      <th>Generation</th>\n",
              "      <th>Legendary</th>\n",
              "    </tr>\n",
              "  </thead>\n",
              "  <tbody>\n",
              "    <tr>\n",
              "      <th>424</th>\n",
              "      <td>383</td>\n",
              "      <td>GroudonPrimal Groudon</td>\n",
              "      <td>Ground</td>\n",
              "      <td>Fire</td>\n",
              "      <td>770</td>\n",
              "      <td>100</td>\n",
              "      <td>180</td>\n",
              "      <td>160</td>\n",
              "      <td>150</td>\n",
              "      <td>90</td>\n",
              "      <td>90</td>\n",
              "      <td>3</td>\n",
              "      <td>True</td>\n",
              "    </tr>\n",
              "    <tr>\n",
              "      <th>789</th>\n",
              "      <td>713</td>\n",
              "      <td>Avalugg</td>\n",
              "      <td>Ice</td>\n",
              "      <td>NaN</td>\n",
              "      <td>514</td>\n",
              "      <td>95</td>\n",
              "      <td>117</td>\n",
              "      <td>184</td>\n",
              "      <td>44</td>\n",
              "      <td>46</td>\n",
              "      <td>28</td>\n",
              "      <td>6</td>\n",
              "      <td>False</td>\n",
              "    </tr>\n",
              "  </tbody>\n",
              "</table>\n",
              "</div>\n",
              "      <button class=\"colab-df-convert\" onclick=\"convertToInteractive('df-8842f335-0dff-4f4e-be94-d54cc2b9f42f')\"\n",
              "              title=\"Convert this dataframe to an interactive table.\"\n",
              "              style=\"display:none;\">\n",
              "        \n",
              "  <svg xmlns=\"http://www.w3.org/2000/svg\" height=\"24px\"viewBox=\"0 0 24 24\"\n",
              "       width=\"24px\">\n",
              "    <path d=\"M0 0h24v24H0V0z\" fill=\"none\"/>\n",
              "    <path d=\"M18.56 5.44l.94 2.06.94-2.06 2.06-.94-2.06-.94-.94-2.06-.94 2.06-2.06.94zm-11 1L8.5 8.5l.94-2.06 2.06-.94-2.06-.94L8.5 2.5l-.94 2.06-2.06.94zm10 10l.94 2.06.94-2.06 2.06-.94-2.06-.94-.94-2.06-.94 2.06-2.06.94z\"/><path d=\"M17.41 7.96l-1.37-1.37c-.4-.4-.92-.59-1.43-.59-.52 0-1.04.2-1.43.59L10.3 9.45l-7.72 7.72c-.78.78-.78 2.05 0 2.83L4 21.41c.39.39.9.59 1.41.59.51 0 1.02-.2 1.41-.59l7.78-7.78 2.81-2.81c.8-.78.8-2.07 0-2.86zM5.41 20L4 18.59l7.72-7.72 1.47 1.35L5.41 20z\"/>\n",
              "  </svg>\n",
              "      </button>\n",
              "      \n",
              "  <style>\n",
              "    .colab-df-container {\n",
              "      display:flex;\n",
              "      flex-wrap:wrap;\n",
              "      gap: 12px;\n",
              "    }\n",
              "\n",
              "    .colab-df-convert {\n",
              "      background-color: #E8F0FE;\n",
              "      border: none;\n",
              "      border-radius: 50%;\n",
              "      cursor: pointer;\n",
              "      display: none;\n",
              "      fill: #1967D2;\n",
              "      height: 32px;\n",
              "      padding: 0 0 0 0;\n",
              "      width: 32px;\n",
              "    }\n",
              "\n",
              "    .colab-df-convert:hover {\n",
              "      background-color: #E2EBFA;\n",
              "      box-shadow: 0px 1px 2px rgba(60, 64, 67, 0.3), 0px 1px 3px 1px rgba(60, 64, 67, 0.15);\n",
              "      fill: #174EA6;\n",
              "    }\n",
              "\n",
              "    [theme=dark] .colab-df-convert {\n",
              "      background-color: #3B4455;\n",
              "      fill: #D2E3FC;\n",
              "    }\n",
              "\n",
              "    [theme=dark] .colab-df-convert:hover {\n",
              "      background-color: #434B5C;\n",
              "      box-shadow: 0px 1px 3px 1px rgba(0, 0, 0, 0.15);\n",
              "      filter: drop-shadow(0px 1px 2px rgba(0, 0, 0, 0.3));\n",
              "      fill: #FFFFFF;\n",
              "    }\n",
              "  </style>\n",
              "\n",
              "      <script>\n",
              "        const buttonEl =\n",
              "          document.querySelector('#df-8842f335-0dff-4f4e-be94-d54cc2b9f42f button.colab-df-convert');\n",
              "        buttonEl.style.display =\n",
              "          google.colab.kernel.accessAllowed ? 'block' : 'none';\n",
              "\n",
              "        async function convertToInteractive(key) {\n",
              "          const element = document.querySelector('#df-8842f335-0dff-4f4e-be94-d54cc2b9f42f');\n",
              "          const dataTable =\n",
              "            await google.colab.kernel.invokeFunction('convertToInteractive',\n",
              "                                                     [key], {});\n",
              "          if (!dataTable) return;\n",
              "\n",
              "          const docLinkHtml = 'Like what you see? Visit the ' +\n",
              "            '<a target=\"_blank\" href=https://colab.research.google.com/notebooks/data_table.ipynb>data table notebook</a>'\n",
              "            + ' to learn more about interactive tables.';\n",
              "          element.innerHTML = '';\n",
              "          dataTable['output_type'] = 'display_data';\n",
              "          await google.colab.output.renderOutput(dataTable, element);\n",
              "          const docLink = document.createElement('div');\n",
              "          docLink.innerHTML = docLinkHtml;\n",
              "          element.appendChild(docLink);\n",
              "        }\n",
              "      </script>\n",
              "    </div>\n",
              "  </div>\n",
              "  "
            ],
            "text/plain": [
              "       #                   Name  Type 1  ... Speed  Generation  Legendary\n",
              "424  383  GroudonPrimal Groudon  Ground  ...    90           3       True\n",
              "789  713                Avalugg     Ice  ...    28           6      False\n",
              "\n",
              "[2 rows x 13 columns]"
            ]
          },
          "metadata": {},
          "execution_count": 72
        }
      ]
    },
    {
      "cell_type": "markdown",
      "source": [
        "Pokemon yang paling baik untuk defense adalah GroudonPrimal Groudon dan Avalugg.\n",
        "\n"
      ],
      "metadata": {
        "id": "YnUnNcClta5X"
      }
    },
    {
      "cell_type": "markdown",
      "source": [
        "*Query 3*\n",
        "\n",
        "Data Pokemon yang kuat di udara dan bisa terbang, punya speed yang tinggi, jago attack."
      ],
      "metadata": {
        "id": "PIMk3MRRgQWi"
      }
    },
    {
      "cell_type": "code",
      "source": [
        "df[\n",
        "   (df[\"Type 1\"] == \"Electric\" ) &\n",
        "   (df[\"Speed\"] > 100)&\n",
        "   (df[\"Attack\"] > 100)&\n",
        "   (df[\"Sp. Atk\"] > 100)\n",
        "]"
      ],
      "metadata": {
        "colab": {
          "base_uri": "https://localhost:8080/",
          "height": 228
        },
        "id": "fE05rAbBiDAv",
        "outputId": "46ec2ed1-099f-4854-b4c2-93a3c4c83d0f"
      },
      "execution_count": 137,
      "outputs": [
        {
          "output_type": "execute_result",
          "data": {
            "text/html": [
              "\n",
              "  <div id=\"df-77c5f43f-2cfa-4771-9608-56b6900b10bc\">\n",
              "    <div class=\"colab-df-container\">\n",
              "      <div>\n",
              "<style scoped>\n",
              "    .dataframe tbody tr th:only-of-type {\n",
              "        vertical-align: middle;\n",
              "    }\n",
              "\n",
              "    .dataframe tbody tr th {\n",
              "        vertical-align: top;\n",
              "    }\n",
              "\n",
              "    .dataframe thead th {\n",
              "        text-align: right;\n",
              "    }\n",
              "</style>\n",
              "<table border=\"1\" class=\"dataframe\">\n",
              "  <thead>\n",
              "    <tr style=\"text-align: right;\">\n",
              "      <th></th>\n",
              "      <th>#</th>\n",
              "      <th>Name</th>\n",
              "      <th>Type 1</th>\n",
              "      <th>Type 2</th>\n",
              "      <th>Total</th>\n",
              "      <th>HP</th>\n",
              "      <th>Attack</th>\n",
              "      <th>Defense</th>\n",
              "      <th>Sp. Atk</th>\n",
              "      <th>Sp. Def</th>\n",
              "      <th>Speed</th>\n",
              "      <th>Generation</th>\n",
              "      <th>Legendary</th>\n",
              "    </tr>\n",
              "  </thead>\n",
              "  <tbody>\n",
              "    <tr>\n",
              "      <th>704</th>\n",
              "      <td>642</td>\n",
              "      <td>ThundurusIncarnate Forme</td>\n",
              "      <td>Electric</td>\n",
              "      <td>Flying</td>\n",
              "      <td>580</td>\n",
              "      <td>79</td>\n",
              "      <td>115</td>\n",
              "      <td>70</td>\n",
              "      <td>125</td>\n",
              "      <td>80</td>\n",
              "      <td>111</td>\n",
              "      <td>5</td>\n",
              "      <td>True</td>\n",
              "    </tr>\n",
              "    <tr>\n",
              "      <th>705</th>\n",
              "      <td>642</td>\n",
              "      <td>ThundurusTherian Forme</td>\n",
              "      <td>Electric</td>\n",
              "      <td>Flying</td>\n",
              "      <td>580</td>\n",
              "      <td>79</td>\n",
              "      <td>105</td>\n",
              "      <td>70</td>\n",
              "      <td>145</td>\n",
              "      <td>80</td>\n",
              "      <td>101</td>\n",
              "      <td>5</td>\n",
              "      <td>True</td>\n",
              "    </tr>\n",
              "  </tbody>\n",
              "</table>\n",
              "</div>\n",
              "      <button class=\"colab-df-convert\" onclick=\"convertToInteractive('df-77c5f43f-2cfa-4771-9608-56b6900b10bc')\"\n",
              "              title=\"Convert this dataframe to an interactive table.\"\n",
              "              style=\"display:none;\">\n",
              "        \n",
              "  <svg xmlns=\"http://www.w3.org/2000/svg\" height=\"24px\"viewBox=\"0 0 24 24\"\n",
              "       width=\"24px\">\n",
              "    <path d=\"M0 0h24v24H0V0z\" fill=\"none\"/>\n",
              "    <path d=\"M18.56 5.44l.94 2.06.94-2.06 2.06-.94-2.06-.94-.94-2.06-.94 2.06-2.06.94zm-11 1L8.5 8.5l.94-2.06 2.06-.94-2.06-.94L8.5 2.5l-.94 2.06-2.06.94zm10 10l.94 2.06.94-2.06 2.06-.94-2.06-.94-.94-2.06-.94 2.06-2.06.94z\"/><path d=\"M17.41 7.96l-1.37-1.37c-.4-.4-.92-.59-1.43-.59-.52 0-1.04.2-1.43.59L10.3 9.45l-7.72 7.72c-.78.78-.78 2.05 0 2.83L4 21.41c.39.39.9.59 1.41.59.51 0 1.02-.2 1.41-.59l7.78-7.78 2.81-2.81c.8-.78.8-2.07 0-2.86zM5.41 20L4 18.59l7.72-7.72 1.47 1.35L5.41 20z\"/>\n",
              "  </svg>\n",
              "      </button>\n",
              "      \n",
              "  <style>\n",
              "    .colab-df-container {\n",
              "      display:flex;\n",
              "      flex-wrap:wrap;\n",
              "      gap: 12px;\n",
              "    }\n",
              "\n",
              "    .colab-df-convert {\n",
              "      background-color: #E8F0FE;\n",
              "      border: none;\n",
              "      border-radius: 50%;\n",
              "      cursor: pointer;\n",
              "      display: none;\n",
              "      fill: #1967D2;\n",
              "      height: 32px;\n",
              "      padding: 0 0 0 0;\n",
              "      width: 32px;\n",
              "    }\n",
              "\n",
              "    .colab-df-convert:hover {\n",
              "      background-color: #E2EBFA;\n",
              "      box-shadow: 0px 1px 2px rgba(60, 64, 67, 0.3), 0px 1px 3px 1px rgba(60, 64, 67, 0.15);\n",
              "      fill: #174EA6;\n",
              "    }\n",
              "\n",
              "    [theme=dark] .colab-df-convert {\n",
              "      background-color: #3B4455;\n",
              "      fill: #D2E3FC;\n",
              "    }\n",
              "\n",
              "    [theme=dark] .colab-df-convert:hover {\n",
              "      background-color: #434B5C;\n",
              "      box-shadow: 0px 1px 3px 1px rgba(0, 0, 0, 0.15);\n",
              "      filter: drop-shadow(0px 1px 2px rgba(0, 0, 0, 0.3));\n",
              "      fill: #FFFFFF;\n",
              "    }\n",
              "  </style>\n",
              "\n",
              "      <script>\n",
              "        const buttonEl =\n",
              "          document.querySelector('#df-77c5f43f-2cfa-4771-9608-56b6900b10bc button.colab-df-convert');\n",
              "        buttonEl.style.display =\n",
              "          google.colab.kernel.accessAllowed ? 'block' : 'none';\n",
              "\n",
              "        async function convertToInteractive(key) {\n",
              "          const element = document.querySelector('#df-77c5f43f-2cfa-4771-9608-56b6900b10bc');\n",
              "          const dataTable =\n",
              "            await google.colab.kernel.invokeFunction('convertToInteractive',\n",
              "                                                     [key], {});\n",
              "          if (!dataTable) return;\n",
              "\n",
              "          const docLinkHtml = 'Like what you see? Visit the ' +\n",
              "            '<a target=\"_blank\" href=https://colab.research.google.com/notebooks/data_table.ipynb>data table notebook</a>'\n",
              "            + ' to learn more about interactive tables.';\n",
              "          element.innerHTML = '';\n",
              "          dataTable['output_type'] = 'display_data';\n",
              "          await google.colab.output.renderOutput(dataTable, element);\n",
              "          const docLink = document.createElement('div');\n",
              "          docLink.innerHTML = docLinkHtml;\n",
              "          element.appendChild(docLink);\n",
              "        }\n",
              "      </script>\n",
              "    </div>\n",
              "  </div>\n",
              "  "
            ],
            "text/plain": [
              "       #                      Name    Type 1  ... Speed  Generation  Legendary\n",
              "704  642  ThundurusIncarnate Forme  Electric  ...   111           5       True\n",
              "705  642    ThundurusTherian Forme  Electric  ...   101           5       True\n",
              "\n",
              "[2 rows x 13 columns]"
            ]
          },
          "metadata": {},
          "execution_count": 137
        }
      ]
    },
    {
      "cell_type": "markdown",
      "source": [
        "Pokemon dengan type 1 Electric yang paling cepat, jago attack adalah ThundurusIncarnate Forme dan ThundurusTherian Forme"
      ],
      "metadata": {
        "id": "JkiUxJTatkmf"
      }
    },
    {
      "cell_type": "markdown",
      "source": [
        "**Visualisasi Panda**"
      ],
      "metadata": {
        "id": "SJsSgngOkraG"
      }
    },
    {
      "cell_type": "code",
      "source": [
        "#Buat grafik garis dengan data\n",
        "%matplotlib inline"
      ],
      "metadata": {
        "id": "BJoP9EET6GYy"
      },
      "execution_count": 78,
      "outputs": []
    },
    {
      "cell_type": "markdown",
      "source": [
        "Visualisasi Pokemon Jago (sesuai Query 1) dilihat dari HP \n",
        "\n"
      ],
      "metadata": {
        "id": "1CxU0cPzlPvH"
      }
    },
    {
      "cell_type": "code",
      "source": [
        "ye = pokemonjago"
      ],
      "metadata": {
        "id": "2jQrXqTHlirN"
      },
      "execution_count": 121,
      "outputs": []
    },
    {
      "cell_type": "code",
      "source": [
        "#Code untuk plot pokemonjago berdasarkan Attack\n",
        "ye.groupby(\"Name\")[\"Attack\"].sum().plot(kind=\"bar\")"
      ],
      "metadata": {
        "colab": {
          "base_uri": "https://localhost:8080/",
          "height": 414
        },
        "id": "lXxK_k8jriQx",
        "outputId": "5c52e3e1-60b2-44c4-c63c-ea758b9a5ec0"
      },
      "execution_count": 130,
      "outputs": [
        {
          "output_type": "execute_result",
          "data": {
            "text/plain": [
              "<matplotlib.axes._subplots.AxesSubplot at 0x7f8a894a1a90>"
            ]
          },
          "metadata": {},
          "execution_count": 130
        },
        {
          "output_type": "display_data",
          "data": {
            "image/png": "[encoded data removed]",
            "text/plain": [
              "<Figure size 432x288 with 1 Axes>"
            ]
          },
          "metadata": {
            "needs_background": "light"
          }
        }
      ]
    },
    {
      "cell_type": "markdown",
      "source": [
        "### **vi. Pengambilan Kesimpulan**"
      ],
      "metadata": {
        "id": "IauXFmdL1Qji"
      }
    },
    {
      "cell_type": "markdown",
      "source": [
        "Pokemon dengan kemungkinan menang paling besar bila dilihat dari \"Total\" adalah pokemon MewtwoMega Mewtwo Y dan RayquazaMega Rayquaza.\n",
        "\n",
        "\n",
        "Pokemon yang paling baik untuk defense adalah GroudonPrimal Groudon dan Avalugg.\n",
        "\n",
        "Pokemon dengan type 1 Electric yang paling cepat, jago attack adalah ThundurusIncarnate Forme dan ThundurusTherian Forme\n",
        "\n",
        "![image.png](data:image/png;base64,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)\n",
        "\n",
        "Bila dilihat dari grafik, MewtwoMega Mewtwo X memiliki HP paling tinggi.\n",
        "\n",
        "Bila Anda ingin bermain dan menang, coba gabungkan kekuatan MewtwoMega Mewtwo X yang jago attack, cepat dan speed tinggi dengan GroudonPrimal Groudon ataupun Avalugg untuk defense."
      ],
      "metadata": {
        "id": "BQGwJGqXudoF"
      }
    }
  ]
}