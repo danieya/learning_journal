{
  "nbformat": 4,
  "nbformat_minor": 0,
  "metadata": {
    "colab": {
      "name": "Daniella_Minitest_DanaBagus.ipynb",
      "provenance": [],
      "collapsed_sections": [],
      "authorship_tag": "ABX9TyP+cUxt5Ab8cyuOJbWbKxMF",
      "include_colab_link": true
    },
    "kernelspec": {
      "name": "python3",
      "display_name": "Python 3"
    },
    "language_info": {
      "name": "python"
    }
  },
  "cells": [
    {
      "cell_type": "markdown",
      "metadata": {
        "id": "view-in-github",
        "colab_type": "text"
      },
      "source": [
        "<a href=\"https://colab.research.google.com/github/danieya/learning_journal/blob/main/Daniella_Minitest_DanaBagus.ipynb\" target=\"_parent\"><img src=\"https://colab.research.google.com/assets/colab-badge.svg\" alt=\"Open In Colab\"/></a>"
      ]
    },
    {
      "cell_type": "code",
      "source": [
        "a = 1;\n",
        "b = 101;\n",
        "for i in range(a,b):\n",
        "  if (i%5==0)&(i%3==0):\n",
        "    print (\"ApaBole\")\n",
        "  elif (i%3==0):\n",
        "    print (\"Apa\")\n",
        "  elif (i%5==0):\n",
        "        print (\"Bole\")\n",
        "  else:\n",
        "    print (i)"
      ],
      "metadata": {
        "colab": {
          "base_uri": "https://localhost:8080/"
        },
        "id": "wQ_UyzEZeonF",
        "outputId": "6262eb7c-7350-40b5-9ecd-af734beec8fc"
      },
      "execution_count": 35,
      "outputs": [
        {
          "output_type": "stream",
          "name": "stdout",
          "text": [
            "1\n",
            "2\n",
            "Apa\n",
            "4\n",
            "Bole\n",
            "Apa\n",
            "7\n",
            "8\n",
            "Apa\n",
            "Bole\n",
            "11\n",
            "Apa\n",
            "13\n",
            "14\n",
            "ApaBole\n",
            "16\n",
            "17\n",
            "Apa\n",
            "19\n",
            "Bole\n",
            "Apa\n",
            "22\n",
            "23\n",
            "Apa\n",
            "Bole\n",
            "26\n",
            "Apa\n",
            "28\n",
            "29\n",
            "ApaBole\n",
            "31\n",
            "32\n",
            "Apa\n",
            "34\n",
            "Bole\n",
            "Apa\n",
            "37\n",
            "38\n",
            "Apa\n",
            "Bole\n",
            "41\n",
            "Apa\n",
            "43\n",
            "44\n",
            "ApaBole\n",
            "46\n",
            "47\n",
            "Apa\n",
            "49\n",
            "Bole\n",
            "Apa\n",
            "52\n",
            "53\n",
            "Apa\n",
            "Bole\n",
            "56\n",
            "Apa\n",
            "58\n",
            "59\n",
            "ApaBole\n",
            "61\n",
            "62\n",
            "Apa\n",
            "64\n",
            "Bole\n",
            "Apa\n",
            "67\n",
            "68\n",
            "Apa\n",
            "Bole\n",
            "71\n",
            "Apa\n",
            "73\n",
            "74\n",
            "ApaBole\n",
            "76\n",
            "77\n",
            "Apa\n",
            "79\n",
            "Bole\n",
            "Apa\n",
            "82\n",
            "83\n",
            "Apa\n",
            "Bole\n",
            "86\n",
            "Apa\n",
            "88\n",
            "89\n",
            "ApaBole\n",
            "91\n",
            "92\n",
            "Apa\n",
            "94\n",
            "Bole\n",
            "Apa\n",
            "97\n",
            "98\n",
            "Apa\n",
            "Bole\n"
          ]
        }
      ]
    }
  ]
}